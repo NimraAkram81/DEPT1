{
  "nbformat": 4,
  "nbformat_minor": 0,
  "metadata": {
    "colab": {
      "provenance": [],
      "authorship_tag": "ABX9TyMMi7Y8rgnkOwUpnSRfxvWJ",
      "include_colab_link": true
    },
    "kernelspec": {
      "name": "python3",
      "display_name": "Python 3"
    },
    "language_info": {
      "name": "python"
    }
  },
  "cells": [
    {
      "cell_type": "markdown",
      "metadata": {
        "id": "view-in-github",
        "colab_type": "text"
      },
      "source": [
        "<a href=\"https://colab.research.google.com/github/NimraAkram81/DEPT1/blob/main/DENT2.ipynb\" target=\"_parent\"><img src=\"https://colab.research.google.com/assets/colab-badge.svg\" alt=\"Open In Colab\"/></a>"
      ]
    },
    {
      "cell_type": "code",
      "source": [
        "# Import necessary libraries\n",
        "import pandas as pd\n",
        "from sklearn.model_selection import train_test_split\n",
        "from sklearn.feature_extraction.text import TfidfVectorizer\n",
        "from sklearn.naive_bayes import MultinomialNB\n",
        "from sklearn.svm import SVC\n",
        "from sklearn.metrics import classification_report, accuracy_score\n",
        "\n",
        "# Load the dataset\n",
        "file_path = 'emails.csv'\n",
        "emails_df = pd.read_csv(file_path)\n",
        "\n",
        "# Data Cleaning and Preprocessing\n",
        "# Drop the \"Email No.\" column as it's unnecessary for classification\n",
        "emails_df_cleaned = emails_df.drop(columns=[\"Email No.\"])\n",
        "\n",
        "# Check for missing values (if there are any missing values, handle them)\n",
        "missing_values = emails_df_cleaned.isnull().sum().sum()\n",
        "if missing_values > 0:\n",
        "    print(f\"Missing values in the dataset: {missing_values}. Please handle them before proceeding.\")\n",
        "else:\n",
        "    print(f\"No missing values found.\")\n",
        "\n",
        "# Feature Extraction using TF-IDF (Term Frequency-Inverse Document Frequency)\n",
        "# This assumes the rest of the columns represent word counts. If it were text, we'd tokenize here.\n",
        "# We are using the already tokenized columns, but this is how TF-IDF would work.\n",
        "\n",
        "# Separate features (X) and target (y)\n",
        "X = emails_df_cleaned.drop(columns=[\"Prediction\"])\n",
        "y = emails_df_cleaned[\"Prediction\"]\n",
        "\n",
        "# Train-Test Split (80% training, 20% testing)\n",
        "X_train, X_test, y_train, y_test = train_test_split(X, y, test_size=0.2, random_state=42)\n",
        "\n",
        "# Model 1: Naive Bayes\n",
        "nb_model = MultinomialNB()\n",
        "nb_model.fit(X_train, y_train)\n",
        "y_pred_nb = nb_model.predict(X_test)\n",
        "\n",
        "# Model 2: Support Vector Machine (SVM)\n",
        "svm_model = SVC(kernel='linear')\n",
        "svm_model.fit(X_train, y_train)\n",
        "y_pred_svm = svm_model.predict(X_test)\n",
        "\n",
        "# Model Evaluation\n",
        "print(\"Naive Bayes Model Evaluation:\")\n",
        "print(f\"Accuracy: {accuracy_score(y_test, y_pred_nb) * 100:.2f}%\")\n",
        "print(\"Classification Report:\")\n",
        "print(classification_report(y_test, y_pred_nb))\n",
        "\n",
        "print(\"\\nSVM Model Evaluation:\")\n",
        "print(f\"Accuracy: {accuracy_score(y_test, y_pred_svm) * 100:.2f}%\")\n",
        "print(\"Classification Report:\")\n",
        "print(classification_report(y_test, y_pred_svm))\n"
      ],
      "metadata": {
        "colab": {
          "base_uri": "https://localhost:8080/"
        },
        "id": "RfOehHREwq4R",
        "outputId": "2c0ce3d5-fd02-40a2-dbd4-39f1b9ad0e25"
      },
      "execution_count": 2,
      "outputs": [
        {
          "output_type": "stream",
          "name": "stdout",
          "text": [
            "No missing values found.\n",
            "Naive Bayes Model Evaluation:\n",
            "Accuracy: 95.46%\n",
            "Classification Report:\n",
            "              precision    recall  f1-score   support\n",
            "\n",
            "           0       0.98      0.95      0.97       739\n",
            "           1       0.89      0.96      0.92       296\n",
            "\n",
            "    accuracy                           0.95      1035\n",
            "   macro avg       0.94      0.96      0.95      1035\n",
            "weighted avg       0.96      0.95      0.96      1035\n",
            "\n",
            "\n",
            "SVM Model Evaluation:\n",
            "Accuracy: 95.94%\n",
            "Classification Report:\n",
            "              precision    recall  f1-score   support\n",
            "\n",
            "           0       0.98      0.97      0.97       739\n",
            "           1       0.92      0.94      0.93       296\n",
            "\n",
            "    accuracy                           0.96      1035\n",
            "   macro avg       0.95      0.95      0.95      1035\n",
            "weighted avg       0.96      0.96      0.96      1035\n",
            "\n"
          ]
        }
      ]
    }
  ]
}